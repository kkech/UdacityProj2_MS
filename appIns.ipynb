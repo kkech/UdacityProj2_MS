{
  "cells": [
    {
      "cell_type": "code",
      "source": [
        "from azureml.core import Workspace\r\n",
        "from azureml.core.webservice import Webservice\r\n",
        "\r\n",
        "%run logs.py"
      ],
      "outputs": [
        {
          "output_type": "stream",
          "name": "stdout",
          "text": [
            "2021-04-18T16:42:52,467426700+00:00 - iot-server/run \n",
            "2021-04-18T16:42:52,473651800+00:00 - nginx/run \n",
            "2021-04-18T16:42:52,472574700+00:00 - rsyslog/run \n",
            "/usr/sbin/nginx: /azureml-envs/azureml_8e5a5a51349877e7d47c6a2872e0ebfd/lib/libcrypto.so.1.0.0: no version information available (required by /usr/sbin/nginx)\n",
            "/usr/sbin/nginx: /azureml-envs/azureml_8e5a5a51349877e7d47c6a2872e0ebfd/lib/libcrypto.so.1.0.0: no version information available (required by /usr/sbin/nginx)\n",
            "/usr/sbin/nginx: /azureml-envs/azureml_8e5a5a51349877e7d47c6a2872e0ebfd/lib/libssl.so.1.0.0: no version information available (required by /usr/sbin/nginx)\n",
            "/usr/sbin/nginx: /azureml-envs/azureml_8e5a5a51349877e7d47c6a2872e0ebfd/lib/libssl.so.1.0.0: no version information available (required by /usr/sbin/nginx)\n",
            "/usr/sbin/nginx: /azureml-envs/azureml_8e5a5a51349877e7d47c6a2872e0ebfd/lib/libssl.so.1.0.0: no version information available (required by /usr/sbin/nginx)\n",
            "2021-04-18T16:42:52,494120700+00:00 - gunicorn/run \n",
            "rsyslogd: /azureml-envs/azureml_8e5a5a51349877e7d47c6a2872e0ebfd/lib/libuuid.so.1: no version information available (required by rsyslogd)\n",
            "EdgeHubConnectionString and IOTEDGE_IOTHUBHOSTNAME are not set. Exiting...\n",
            "2021-04-18T16:42:52,695888000+00:00 - iot-server/finish 1 0\n",
            "2021-04-18T16:42:52,702099000+00:00 - Exit code 1 is normal. Not restarting iot-server.\n",
            "Starting gunicorn 19.9.0\n",
            "Listening at: http://127.0.0.1:31311 (73)\n",
            "Using worker: sync\n",
            "worker timeout is set to 300\n",
            "Booting worker with pid: 102\n",
            "SPARK_HOME not set. Skipping PySpark Initialization.\n",
            "Generating new fontManager, this may take some time...\n",
            "Initializing logger\n",
            "2021-04-18 16:42:54,553 | root | INFO | Starting up app insights client\n",
            "2021-04-18 16:42:54,553 | root | INFO | Starting up request id generator\n",
            "2021-04-18 16:42:54,553 | root | INFO | Starting up app insight hooks\n",
            "2021-04-18 16:42:54,554 | root | INFO | Invoking user's init function\n",
            "2021-04-18 16:42:57,699 | azureml.core | WARNING | Failure while loading azureml_run_type_providers. Failed to load entrypoint automl = azureml.train.automl.run:AutoMLRun._from_run_dto with exception cannot import name 'RunType'.\n",
            "Failure while loading azureml_run_type_providers. Failed to load entrypoint automl = azureml.train.automl.run:AutoMLRun._from_run_dto with exception cannot import name 'RunType'.\n",
            "2021-04-18 16:42:58,121 | root | INFO | Users's init has completed successfully\n",
            "2021-04-18 16:42:58,126 | root | INFO | Skipping middleware: dbg_model_info as it's not enabled.\n",
            "2021-04-18 16:42:58,126 | root | INFO | Skipping middleware: dbg_resource_usage as it's not enabled.\n",
            "2021-04-18 16:42:58,129 | root | INFO | Scoring timeout is found from os.environ: 60000 ms\n",
            "2021-04-18 16:43:03,641 | root | INFO | 200\n",
            "127.0.0.1 - - [18/Apr/2021:16:43:03 +0000] \"GET /swagger.json HTTP/1.0\" 200 3254 \"-\" \"Go-http-client/1.1\"\n",
            "2021-04-18 16:57:04,531 | root | INFO | 200\n",
            "127.0.0.1 - - [18/Apr/2021:16:57:04 +0000] \"GET /swagger.json HTTP/1.0\" 200 3254 \"-\" \"Go-http-client/1.1\"\n",
            "2021-04-18 17:25:26,463 | root | INFO | 200\n",
            "127.0.0.1 - - [18/Apr/2021:17:25:26 +0000] \"GET /swagger.json HTTP/1.0\" 200 3254 \"-\" \"Go-http-client/1.1\"\n",
            "2021-04-18 17:31:07,720 | root | INFO | 200\n",
            "127.0.0.1 - - [18/Apr/2021:17:31:07 +0000] \"GET /swagger.json HTTP/1.0\" 200 3254 \"-\" \"Go-http-client/1.1\"\n",
            "2021-04-18 17:31:13,460 | root | INFO | 200\n",
            "127.0.0.1 - - [18/Apr/2021:17:31:13 +0000] \"GET /swagger.json HTTP/1.0\" 200 3254 \"-\" \"Go-http-client/1.1\"\n",
            "\n"
          ]
        }
      ],
      "execution_count": 3,
      "metadata": {
        "gather": {
          "logged": 1618767074380
        }
      }
    }
  ],
  "metadata": {
    "kernelspec": {
      "name": "python3-azureml",
      "language": "python",
      "display_name": "Python 3.6 - AzureML"
    },
    "language_info": {
      "name": "python",
      "version": "3.6.9",
      "mimetype": "text/x-python",
      "codemirror_mode": {
        "name": "ipython",
        "version": 3
      },
      "pygments_lexer": "ipython3",
      "nbconvert_exporter": "python",
      "file_extension": ".py"
    },
    "kernel_info": {
      "name": "python3-azureml"
    },
    "microsoft": {
      "host": {
        "AzureML": {
          "notebookHasBeenCompleted": true
        }
      }
    },
    "nteract": {
      "version": "nteract-front-end@1.0.0"
    }
  },
  "nbformat": 4,
  "nbformat_minor": 2
}